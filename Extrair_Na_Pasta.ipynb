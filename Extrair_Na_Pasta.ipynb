{
 "cells": [
  {
   "cell_type": "code",
   "execution_count": null,
   "metadata": {},
   "outputs": [],
   "source": [
    "##Capturar Login Atual\n",
    "import os as sistema\n",
    "##Extrair arquivo\n",
    "import zipfile\n",
    "##Passar Mensagem \n",
    "from tkinter import messagebox"
   ]
  },
  {
   "cell_type": "code",
   "execution_count": null,
   "metadata": {},
   "outputs": [],
   "source": [
    "## Extrair arquivo da pasta download na subpasta na raiz do projeto.\n",
    "usuario = sistema.getlogin()   \n",
    "arquivo = fr\"C:/users/{usuario}/downloads/nome_do_arquivo.zip\"\n",
    "if sistema.path.exists(arquivo): \n",
    "    with zipfile.ZipFile(arquivo, 'r') as zip:\n",
    "        zip.extractall(\"subpasta\") \n",
    "else:\n",
    "    messagebox.showerror('Extrair_Na_Pasta', \\\n",
    "      'Nome_do_Arquivo não encontrado na pasta Downloads!')\n",
    "    print(\"\")"
   ]
  }
 ],
 "metadata": {
  "language_info": {
   "name": "python"
  }
 },
 "nbformat": 4,
 "nbformat_minor": 2
}
